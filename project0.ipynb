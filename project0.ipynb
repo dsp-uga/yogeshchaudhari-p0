{
 "cells": [
  {
   "cell_type": "code",
   "execution_count": 257,
   "id": "living-radiation",
   "metadata": {},
   "outputs": [],
   "source": [
    "import dask.bag as db"
   ]
  },
  {
   "cell_type": "markdown",
   "id": "nearby-canon",
   "metadata": {},
   "source": [
    "Helper function that displays all the functions that can be invoked on an object."
   ]
  },
  {
   "cell_type": "code",
   "execution_count": 258,
   "id": "stuck-reconstruction",
   "metadata": {},
   "outputs": [],
   "source": [
    "def display_object_method(obj):\n",
    "    object_methods = [method_name for method_name in dir(obj)\n",
    "                  if callable(getattr(obj, method_name))]\n",
    "    print(object_methods)"
   ]
  },
  {
   "cell_type": "markdown",
   "id": "frozen-anime",
   "metadata": {},
   "source": [
    "Stand in function for creating the json files.\n",
    "\n",
    "Will be updated later"
   ]
  },
  {
   "cell_type": "code",
   "execution_count": 259,
   "id": "prescribed-things",
   "metadata": {},
   "outputs": [],
   "source": [
    "def create_json_file(data, filename):\n",
    "    print(data)\n",
    "    print(filename)"
   ]
  },
  {
   "cell_type": "markdown",
   "id": "directed-probability",
   "metadata": {},
   "source": [
    "Computes the top K words from the bag of words for each of the subproject."
   ]
  },
  {
   "cell_type": "code",
   "execution_count": 260,
   "id": "dated-tissue",
   "metadata": {},
   "outputs": [],
   "source": [
    "def compute_top_k(words, k=40):\n",
    "    word_frequencies = words.frequencies()\n",
    "    top40_words = word_frequencies.topk(k, key=1)\n",
    "    word_counts = top40_words.compute()\n",
    "    print(word_counts)\n",
    "    return word_counts"
   ]
  },
  {
   "cell_type": "markdown",
   "id": "massive-tackle",
   "metadata": {},
   "source": [
    "## Subproject 1\n",
    "### Top 40 words across all files\n",
    "- Find top 40 words\n",
    "- No need to filter out stop words"
   ]
  },
  {
   "cell_type": "code",
   "execution_count": 261,
   "id": "hazardous-playback",
   "metadata": {
    "scrolled": true
   },
   "outputs": [],
   "source": [
    "word_bag = db.read_text([\n",
    "    \"handout/data/pg36.txt\",\n",
    "    \"handout/data/pg3207.txt\",\n",
    "    \"handout/data/4300-0.txt\",\n",
    "    \"handout/data/pg19033.txt\",\n",
    "    \"handout/data/pg1497.txt\",\n",
    "    \"handout/data/pg42671.txt\",\n",
    "    \"handout/data/pg514.txt\",\n",
    "    \"handout/data/pg6130.txt\"\n",
    "])"
   ]
  },
  {
   "cell_type": "code",
   "execution_count": 279,
   "id": "supported-highlight",
   "metadata": {},
   "outputs": [],
   "source": [
    "stripped_words = word_bag.str.strip()"
   ]
  },
  {
   "cell_type": "code",
   "execution_count": 280,
   "id": "alien-analyst",
   "metadata": {},
   "outputs": [],
   "source": [
    "split_words = stripped_words.str.split(\" \")"
   ]
  },
  {
   "cell_type": "code",
   "execution_count": 281,
   "id": "understood-matter",
   "metadata": {},
   "outputs": [],
   "source": [
    "word_array = split_words.flatten()"
   ]
  },
  {
   "cell_type": "code",
   "execution_count": 277,
   "id": "regulation-sacramento",
   "metadata": {},
   "outputs": [],
   "source": [
    "lowercase_words = word_array.map(lambda x: x.lower())"
   ]
  },
  {
   "cell_type": "code",
   "execution_count": 278,
   "id": "familiar-sewing",
   "metadata": {},
   "outputs": [
    {
     "name": "stdout",
     "output_type": "stream",
     "text": [
      "[('the', 78837), ('and', 45168), ('of', 44739), ('', 35057), ('to', 33436), ('a', 24234), ('in', 22126), ('that', 14818), ('he', 13019), ('is', 12918), ('his', 12270), ('i', 11044), ('with', 10296), ('for', 10036), ('as', 9639), ('be', 8834), ('was', 8787), ('not', 8141), ('it', 8123), ('but', 7856), ('by', 7701), ('or', 7407), ('her', 7403), ('they', 6735), ('which', 6517), ('you', 6354), ('on', 6214), ('from', 5811), ('at', 5695), ('are', 5590), ('she', 5458), ('all', 5437), ('their', 5285), ('have', 5146), ('had', 4647), ('this', 4090), ('my', 3841), ('so', 3710), ('we', 3629), ('no', 3620)]\n"
     ]
    }
   ],
   "source": [
    "top_40 = compute_top_k(lowercase_words, k=40)"
   ]
  },
  {
   "cell_type": "markdown",
   "id": "digital-eleven",
   "metadata": {},
   "source": [
    "## Subproject 2\n",
    "### Top 40 filtered words\n",
    "- Find top 40 words\n",
    "- Filter out the stopwords from the handout file."
   ]
  },
  {
   "cell_type": "code",
   "execution_count": 267,
   "id": "assigned-correlation",
   "metadata": {},
   "outputs": [],
   "source": [
    "def get_filtered_words(words):\n",
    "    stopwords = open(\"handout/data/stopwords.txt\", \"r\").read().split(\"\\n\")\n",
    "    return words.filter(lambda x: x not in stopwords)"
   ]
  },
  {
   "cell_type": "code",
   "execution_count": 268,
   "id": "tested-blair",
   "metadata": {},
   "outputs": [
    {
     "name": "stdout",
     "output_type": "stream",
     "text": [
      "[('i', 11044), ('not', 8141), ('you', 6354), ('have', 5146), ('no', 3620), ('one', 3498), ('like', 2253), ('more', 2087), ('out', 2021), ('up', 1831), ('man', 1783), ('now', 1579), ('only', 1555), ('must', 1523), ('little', 1485), ('those', 1447), ('good', 1444), ('should', 1417), ('after', 1379), ('great', 1358), ('every', 1356), ('first', 1318), ('own', 1289), ('did', 1271), ('how', 1266), ('see', 1251), ('these', 1244), ('men', 1233), ('over', 1209), ('where', 1205), ('make', 1196), ('upon', 1188), ('nor', 1181), ('never', 1177), ('much', 1167), ('time', 1166), ('said,', 1163), ('two', 1142), ('old', 1140), ('made', 1128)]\n"
     ]
    }
   ],
   "source": [
    "filtered_words = get_filtered_words(lowercase_words)\n",
    "top_40_filtered = compute_top_k(filtered_words, 40)"
   ]
  },
  {
   "cell_type": "markdown",
   "id": "athletic-appearance",
   "metadata": {},
   "source": [
    "## Subproject 3\n",
    "### Top 40 words without punctuations\n",
    "- Find top 40 words\n",
    "- Remove leading and trailing punctuation marks\n",
    "- Filter out the stopwords from the handout file."
   ]
  },
  {
   "cell_type": "code",
   "execution_count": 269,
   "id": "grateful-stuart",
   "metadata": {},
   "outputs": [],
   "source": [
    "from string import punctuation\n",
    "\n",
    "all_punctuations = punctuation + \"—\"\n",
    "\n",
    "words_without_punctuations = lowercase_words.map(lambda x: x.strip(all_punctuations))"
   ]
  },
  {
   "cell_type": "code",
   "execution_count": 270,
   "id": "technological-aside",
   "metadata": {},
   "outputs": [
    {
     "name": "stdout",
     "output_type": "stream",
     "text": [
      "[('i', 12361), ('not', 8833), ('you', 7780), ('have', 5294), ('no', 4073), ('one', 4026), ('man', 2655), ('more', 2445), ('like', 2414), ('out', 2354), ('now', 2249), ('up', 2217), ('good', 1917), ('men', 1886), ('mr', 1820), ('god', 1756), ('time', 1738), ('only', 1730), ('say', 1670), ('first', 1659), ('must', 1581), ('little', 1569), ('own', 1549), ('see', 1526), ('those', 1525), ('how', 1460), ('after', 1457), ('did', 1453), ('great', 1451), ('should', 1437), ('us', 1406), ('these', 1384), ('know', 1377), ('every', 1372), ('before', 1367), ('over', 1353), ('much', 1341), ('where', 1332), ('same', 1313), ('well', 1309), ('two', 1292), ('jo', 1248), ('made', 1247), ('never', 1238), ('make', 1238), ('old', 1230), ('way', 1226), ('upon', 1221), ('also', 1219), ('down', 1211), ('nor', 1208), ('power', 1199), ('another', 1179), ('too', 1168), ('life', 1163), ('though', 1157), ('most', 1153), ('being', 1149), ('day', 1137), ('yet', 1131), ('again', 1117), ('because', 1103), ('without', 1068), ('let', 1061), ('thy', 1061), ('just', 1058), ('right', 1058), ('come', 1049), ('many', 1045), ('through', 1041), ('yes', 1034), ('think', 1012), ('go', 1008), ('away', 997), ('eyes', 976), ('thing', 972), ('things', 966), ('its', 959), ('bloom', 950), ('himself', 949), ('state', 937), ('long', 927), ('hand', 918), ('came', 916), ('might', 915), ('people', 906), ('nature', 905), ('therefore', 883), ('place', 882), ('true', 882), ('here', 875), ('nothing', 874), ('while', 874), ('law', 860), ('both', 859), ('thus', 849), ('words', 848), ('take', 834), ('still', 825), ('world', 820), ('last', 820), ('give', 817), ('work', 817), ('am', 812), ('mrs', 793), ('off', 785), ('thought', 784), ('father', 779), ('under', 777), ('mind', 769), ('against', 757), ('young', 754), ('ever', 750), ('even', 734), ('back', 731), ('whom', 718), ('went', 716), ('project', 708), ('love', 706), ('part', 699), ('name', 699), ('head', 695), ('new', 689), ('till', 687), ('gods', 681), ('each', 679), ('get', 672), ('face', 667), ('put', 664), ('called', 660), ('saw', 657), ('always', 655), ('better', 652), ('mother', 652), ('far', 645), ('tell', 644), ('word', 643), ('look', 640), ('says', 636), ('once', 635), ('having', 635), ('meg', 633), ('round', 628), ('arms', 625), ('cannot', 625), ('best', 622), ('done', 621), ('soul', 621), ('reason', 612), ('found', 606), ('whole', 604), ('o', 601), ('night', 597), ('why', 597), ('three', 594), ('body', 593), ('elizabeth', 592), ('hands', 586), ('dear', 586), ('heart', 584), ('son', 584), ('king', 581), (\"don't\", 580), ('herself', 575), ('whose', 574), ('either', 573), ('amy', 571), ('between', 570), ('use', 568), ('something', 565), ('left', 562), ('going', 561), ('full', 560), ('war', 559), ('others', 558), ('house', 556), ('asked', 553), ('quite', 549), ('laurie', 547), ('got', 546), ('justice', 541), ('miss', 537), ('home', 536), ('high', 531), ('death', 530), ('hear', 530), ('does', 529), ('themselves', 519), ('whether', 515), ('thou', 514), ('gave', 510), ('rather', 510), ('heard', 508), ('next', 507), ('soon', 506), ('kind', 504), ('stephen', 504), ('friend', 503), ('looked', 501), ('subject', 498), ('soveraign', 497), ('end', 495), ('want', 492), ('voice', 488), ('replied', 486), ('took', 485), ('find', 484), ('light', 480), ('manner', 475), ('poor', 474), ('care', 473), ('side', 467), ('hath', 465), ('call', 461), ('heaven', 460), ('course', 455), ('spirit', 451), ('told', 451), ('rest', 449), ('mean', 448), ('ought', 448), ('dead', 444), ('set', 441), ('sense', 440), ('truth', 438), ('person', 438), ('enough', 438), ('given', 437), ('earth', 435), ('seen', 435), ('common-wealth', 432), ('achilles', 429), ('john', 428), ('knowledge', 426), ('stood', 422), ('children', 422), ('air', 420), ('few', 418), (\"i'm\", 418), ('felt', 417), ('beth', 416), ('second', 414), ('onely', 413), ('certainly', 410), ('together', 409), ('read', 407), ('hope', 406), ('art', 406), ('book', 402), ('towards', 398), ('present', 396), ('common', 395), ('seemed', 392), ('began', 392), ('gutenberg-tm', 392), ('help', 388), ('black', 386), ('authority', 385), ('times', 384), ('keep', 384), ('sir', 382), ('perhaps', 381), ('woman', 381), ('cried', 380), ('along', 380), ('lord', 377), ('lady', 377), ('works', 377), ('hector', 377), ('anything', 376), ('order', 375), ('years', 374), ('half', 374), ('behind', 373), ('knew', 373), ('fire', 370), ('turned', 369), ('sure', 369), ('jove', 368), (\"o'er\", 368), ('lay', 367), ('darcy', 367), ('fear', 366), ('street', 365), ('laws', 365), ('saying', 364), ('family', 364), ('looking', 362), ('opinion', 362), ('neither', 362), ('number', 361), ('suppose', 361), ('believe', 360), ('girls', 360), ('sort', 359), ('often', 359), ('speak', 358), ('human', 357), ('myself', 356), ('near', 354), ('plain', 353), ('happy', 352), ('force', 352), ('church', 349), ('march', 349), ('cause', 348), ('taken', 347), ('among', 347), ('lost', 346), ('friends', 346), ('vain', 345), ('answer', 345), ('honour', 345), ('pleasure', 345), ('sight', 344), ('idea', 343), ('chief', 343), ('plato', 343), (\"it's\", 342), ('ground', 342), ('money', 341), ('spoke', 340), ('question', 340), ('case', 339), ('coming', 338), ('form', 336), ('christ', 336), ('fight', 330), ('door', 330), ('wish', 330), ('troy', 329), ('days', 328), ('alone', 328), ('used', 328), ('private', 328), ('fair', 327), ('civill', 326), ('certain', 325), ('sometimes', 323), ('white', 321), ('room', 321), ('however', 320), ('women', 319), ('thee', 319), ('already', 318), ('morning', 318), ('less', 316), ('oh', 316), ('sister', 315), ('brought', 314), ('above', 313), ('point', 313), ('eye', 312), ('fall', 312), ('feel', 308), ('city', 308), ('water', 307), ('ask', 305), ('age', 305), ('means', 304), ('else', 303), ('brother', 303), ('received', 302), ('moment', 297), ('gone', 296), ('really', 295), ('greater', 294), ('since', 293), ('sat', 292), ('bennet', 292), ('matter', 291), ('making', 291), ('wife', 290), ('within', 288), ('kingdome', 288), ('sent', 287), ('hard', 286), ('indeed', 285), ('general', 284), ('evil', 282), ('four', 281), ('leave', 281), ('different', 281), ('divine', 281), ('youth', 280), ('turn', 279), ('passed', 279), ('field', 278), ('live', 277), ('moses', 277), ('fell', 273), ('bear', 272), ('seeing', 272), ('greeks', 272), ('fate', 271), ('arm', 271), ('bad', 271), ('none', 270), ('red', 269), ('peace', 269)]\n"
     ]
    }
   ],
   "source": [
    "filtered_words = get_filtered_words(words_without_punctuations)\n",
    "top_40_filtered = compute_top_k(filtered_words, 400)"
   ]
  },
  {
   "cell_type": "code",
   "execution_count": null,
   "id": "active-genetics",
   "metadata": {},
   "outputs": [],
   "source": []
  }
 ],
 "metadata": {
  "kernelspec": {
   "display_name": "Python 3",
   "language": "python",
   "name": "python3"
  },
  "language_info": {
   "codemirror_mode": {
    "name": "ipython",
    "version": 3
   },
   "file_extension": ".py",
   "mimetype": "text/x-python",
   "name": "python",
   "nbconvert_exporter": "python",
   "pygments_lexer": "ipython3",
   "version": "3.7.9"
  }
 },
 "nbformat": 4,
 "nbformat_minor": 5
}
