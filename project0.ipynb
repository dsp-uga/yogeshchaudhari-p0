{
 "cells": [
  {
   "cell_type": "code",
   "execution_count": 103,
   "id": "found-amateur",
   "metadata": {},
   "outputs": [],
   "source": [
    "import dask.bag as db"
   ]
  },
  {
   "cell_type": "markdown",
   "id": "careful-fifty",
   "metadata": {},
   "source": [
    "Helper function that displays all the functions that can be invoked on an object."
   ]
  },
  {
   "cell_type": "code",
   "execution_count": 104,
   "id": "running-aluminum",
   "metadata": {},
   "outputs": [],
   "source": [
    "def display_object_method(obj):\n",
    "    object_methods = [method_name for method_name in dir(obj)\n",
    "                  if callable(getattr(obj, method_name))]\n",
    "    print(object_methods)"
   ]
  },
  {
   "cell_type": "markdown",
   "id": "amber-snake",
   "metadata": {},
   "source": [
    "Stand in function for creating the json files.\n",
    "\n",
    "Will be updated later"
   ]
  },
  {
   "cell_type": "code",
   "execution_count": 105,
   "id": "organic-shift",
   "metadata": {},
   "outputs": [],
   "source": [
    "def create_json_file(data, filename):\n",
    "    print(data)\n",
    "    print(filename)"
   ]
  },
  {
   "cell_type": "code",
   "execution_count": 131,
   "id": "scenic-trader",
   "metadata": {},
   "outputs": [],
   "source": [
    "def compute_top_40(words):\n",
    "    word_frequencies = words.frequencies()\n",
    "    top40_words = word_frequencies.topk(40, key=1)\n",
    "    word_counts = top40_words.compute()\n",
    "    print(word_counts)\n",
    "    return word_counts"
   ]
  },
  {
   "cell_type": "markdown",
   "id": "requested-operation",
   "metadata": {},
   "source": [
    "## Subproject 1\n",
    "### Top 40 words across all files\n",
    "- Find top 40 words\n",
    "- No need to filter out stop words"
   ]
  },
  {
   "cell_type": "code",
   "execution_count": 135,
   "id": "broken-jewel",
   "metadata": {
    "scrolled": true
   },
   "outputs": [],
   "source": [
    "word_bag = db.read_text([\n",
    "    \"handout\\data\\pg36.txt\",\n",
    "    \"handout\\data\\pg3207.txt\",\n",
    "    \"handout\\data\\pg3207.txt\",\n",
    "    \"handout\\data\\pg3207.txt\",\n",
    "    \"handout\\data\\pg3207.txt\",\n",
    "    \"handout\\data\\pg3207.txt\",\n",
    "    \"handout\\data\\pg3207.txt\",\n",
    "    \"handout\\data\\pg3207.txt\"])"
   ]
  },
  {
   "cell_type": "code",
   "execution_count": 136,
   "id": "correct-meaning",
   "metadata": {},
   "outputs": [],
   "source": [
    "stripped_words = word_bag.str.strip()"
   ]
  },
  {
   "cell_type": "code",
   "execution_count": 137,
   "id": "heated-setting",
   "metadata": {},
   "outputs": [],
   "source": [
    "split_words = stripped_words.str.split(\" \")"
   ]
  },
  {
   "cell_type": "code",
   "execution_count": 138,
   "id": "isolated-bristol",
   "metadata": {},
   "outputs": [],
   "source": [
    "word_array = split_words.flatten()"
   ]
  },
  {
   "cell_type": "code",
   "execution_count": 139,
   "id": "mediterranean-research",
   "metadata": {},
   "outputs": [],
   "source": [
    "lowercase_words = word_array.map(lambda x: x.lower())"
   ]
  },
  {
   "cell_type": "code",
   "execution_count": 140,
   "id": "homeless-stock",
   "metadata": {},
   "outputs": [
    {
     "name": "stdout",
     "output_type": "stream",
     "text": [
      "[('the', 110276), ('of', 79041), ('and', 54026), ('to', 52218), ('', 35570), ('that', 33199), ('is', 31771), ('in', 29885), ('a', 23889), ('by', 18534), ('for', 17476), ('but', 16068), ('or', 16005), ('be', 15504), ('not', 15179), ('as', 14985), ('it', 14493), ('which', 13233), ('they', 12190), ('his', 11714), ('are', 11345), ('he', 10715), ('their', 10699), ('from', 9341), ('all', 7543), ('was', 7054), ('have', 7046), ('no', 6928), ('this', 6369), ('there', 6254), ('any', 5966), ('with', 5679), ('other', 5553), ('them', 5329), ('one', 5241), ('i', 5089), ('were', 4915), ('man', 4849), ('when', 4769), ('so', 4700)]\n"
     ]
    }
   ],
   "source": [
    "top_40 = compute_top_40(lowercase_words)"
   ]
  },
  {
   "cell_type": "markdown",
   "id": "handled-heavy",
   "metadata": {},
   "source": [
    "## Subproject 2\n",
    "### Top 40 filtered words\n",
    "- Find top 40 words\n",
    "- Filter out the stopwords from the handout file."
   ]
  },
  {
   "cell_type": "code",
   "execution_count": null,
   "id": "considerable-softball",
   "metadata": {},
   "outputs": [],
   "source": []
  },
  {
   "cell_type": "code",
   "execution_count": 132,
   "id": "fresh-footwear",
   "metadata": {},
   "outputs": [],
   "source": [
    "stopwords = open(\"handout/data/stopwords.txt\", \"r\").read().split(\"\\n\")"
   ]
  },
  {
   "cell_type": "code",
   "execution_count": 130,
   "id": "judicial-spotlight",
   "metadata": {},
   "outputs": [
    {
     "name": "stdout",
     "output_type": "stream",
     "text": [
      "True\n"
     ]
    }
   ],
   "source": [
    "print(\"project\" not in stopwords)"
   ]
  },
  {
   "cell_type": "code",
   "execution_count": 133,
   "id": "normal-ability",
   "metadata": {},
   "outputs": [],
   "source": [
    "filtered_words = lowercase_words.filter(lambda x: x not in stopwords)"
   ]
  },
  {
   "cell_type": "code",
   "execution_count": 134,
   "id": "proud-knitting",
   "metadata": {},
   "outputs": [
    {
     "name": "stdout",
     "output_type": "stream",
     "text": [
      "[('not', 2345), ('i', 1759), ('have', 1196), ('no', 1144), ('one', 903), ('man', 769), ('men', 715), ('also', 551), ('therefore', 547), ('god', 541), ('those', 518), ('upon', 504), ('every', 459), ('power', 459), ('because', 449), ('nor', 447), ('same', 445), ('hath', 434), ('out', 430), ('own', 414), ('law', 379), ('more', 373), ('these', 364), ('yet', 364), ('without', 356), ('is,', 354), ('time', 347), ('where', 341), ('onely', 334), ('called', 332), ('after', 331), ('made', 325), ('should', 324), ('god,', 320), ('against', 319), ('say,', 316), ('soveraign', 316), ('make', 313), ('being', 312), ('though', 310)]\n"
     ]
    }
   ],
   "source": [
    "top_40 = compute_top_40(filtered_words)"
   ]
  },
  {
   "cell_type": "code",
   "execution_count": null,
   "id": "senior-pennsylvania",
   "metadata": {},
   "outputs": [],
   "source": []
  }
 ],
 "metadata": {
  "kernelspec": {
   "display_name": "Python 3",
   "language": "python",
   "name": "python3"
  },
  "language_info": {
   "codemirror_mode": {
    "name": "ipython",
    "version": 3
   },
   "file_extension": ".py",
   "mimetype": "text/x-python",
   "name": "python",
   "nbconvert_exporter": "python",
   "pygments_lexer": "ipython3",
   "version": "3.7.9"
  }
 },
 "nbformat": 4,
 "nbformat_minor": 5
}
