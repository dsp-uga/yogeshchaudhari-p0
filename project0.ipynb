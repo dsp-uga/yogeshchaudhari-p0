{
 "cells": [
  {
   "cell_type": "code",
   "execution_count": 103,
   "id": "altered-smoke",
   "metadata": {},
   "outputs": [],
   "source": [
    "import dask.bag as db"
   ]
  },
  {
   "cell_type": "markdown",
   "id": "found-respondent",
   "metadata": {},
   "source": [
    "Helper function that displays all the functions that can be invoked on an object."
   ]
  },
  {
   "cell_type": "code",
   "execution_count": 104,
   "id": "sized-ground",
   "metadata": {},
   "outputs": [],
   "source": [
    "def display_object_method(obj):\n",
    "    object_methods = [method_name for method_name in dir(obj)\n",
    "                  if callable(getattr(obj, method_name))]\n",
    "    print(object_methods)"
   ]
  },
  {
   "cell_type": "markdown",
   "id": "macro-blame",
   "metadata": {},
   "source": [
    "Stand in function for creating the json files.\n",
    "\n",
    "Will be updated later"
   ]
  },
  {
   "cell_type": "code",
   "execution_count": 105,
   "id": "medical-peripheral",
   "metadata": {},
   "outputs": [],
   "source": [
    "def create_json_file(data, filename):\n",
    "    print(data)\n",
    "    print(filename)"
   ]
  },
  {
   "cell_type": "markdown",
   "id": "scheduled-given",
   "metadata": {},
   "source": [
    "## Subproject 1\n",
    "### Top 40 words across all files\n",
    "- Find top 40 words\n",
    "- No need to filter out stop words"
   ]
  },
  {
   "cell_type": "code",
   "execution_count": 106,
   "id": "hired-hardware",
   "metadata": {
    "scrolled": true
   },
   "outputs": [],
   "source": [
    "word_bag = db.read_text([\"handout\\data\\pg36.txt\", \"handout\\data\\pg3207.txt\"])"
   ]
  },
  {
   "cell_type": "code",
   "execution_count": 107,
   "id": "certain-mailman",
   "metadata": {},
   "outputs": [],
   "source": [
    "stripped_words = word_bag.str.strip()"
   ]
  },
  {
   "cell_type": "code",
   "execution_count": 108,
   "id": "amber-plaza",
   "metadata": {},
   "outputs": [],
   "source": [
    "split_words = stripped_words.str.split(\" \")"
   ]
  },
  {
   "cell_type": "code",
   "execution_count": 109,
   "id": "bound-monthly",
   "metadata": {},
   "outputs": [],
   "source": [
    "word_array = split_words.flatten()"
   ]
  },
  {
   "cell_type": "code",
   "execution_count": 110,
   "id": "appreciated-score",
   "metadata": {},
   "outputs": [],
   "source": [
    "lowercase_words = word_array.map(lambda x: x.lower()).filter(lambda x: x != \"\")"
   ]
  },
  {
   "cell_type": "code",
   "execution_count": 111,
   "id": "arranged-bachelor",
   "metadata": {},
   "outputs": [],
   "source": [
    "word_frequencies = lowercase_words.frequencies()"
   ]
  },
  {
   "cell_type": "code",
   "execution_count": 112,
   "id": "infrared-timing",
   "metadata": {},
   "outputs": [
    {
     "name": "stdout",
     "output_type": "stream",
     "text": [
      "['__await__', '__class__', '__dask_graph__', '__dask_keys__', '__dask_layers__', '__dask_optimize__', '__dask_postcompute__', '__dask_postpersist__', '__dask_scheduler__', '__dask_tokenize__', '__delattr__', '__dir__', '__eq__', '__format__', '__ge__', '__getattribute__', '__getstate__', '__gt__', '__hash__', '__init__', '__init_subclass__', '__iter__', '__le__', '__lt__', '__ne__', '__new__', '__reduce__', '__reduce_ex__', '__repr__', '__setattr__', '__setstate__', '__sizeof__', '__str__', '__subclasshook__', 'accumulate', 'all', 'any', 'compute', 'count', 'distinct', 'filter', 'flatten', 'fold', 'foldby', 'frequencies', 'groupby', 'join', 'map', 'map_partitions', 'max', 'mean', 'min', 'persist', 'pluck', 'product', 'random_sample', 'reduction', 'remove', 'repartition', 'starmap', 'std', 'sum', 'take', 'to_avro', 'to_dataframe', 'to_delayed', 'to_textfiles', 'topk', 'unzip', 'var', 'visualize']\n"
     ]
    }
   ],
   "source": [
    "object_method_counter(word_frequencies)"
   ]
  },
  {
   "cell_type": "code",
   "execution_count": 113,
   "id": "difficult-williams",
   "metadata": {},
   "outputs": [],
   "source": [
    "top40_words = word_frequencies.topk(40, key=1)"
   ]
  },
  {
   "cell_type": "code",
   "execution_count": 114,
   "id": "literary-jumping",
   "metadata": {},
   "outputs": [
    {
     "name": "stdout",
     "output_type": "stream",
     "text": [
      "[('the', 19988), ('of', 13365), ('and', 9866), ('to', 8526), ('that', 5383), ('in', 5153), ('a', 4833), ('is', 4687), ('by', 2880), ('for', 2806), ('it', 2553), ('but', 2538), ('as', 2529), ('or', 2481), ('be', 2346), ('not', 2345), ('they', 2002), ('which', 1977), ('his', 1886), ('he', 1883), ('i', 1759), ('was', 1720), ('their', 1711), ('are', 1703), ('from', 1625), ('all', 1255), ('with', 1233), ('have', 1196), ('this', 1149), ('no', 1144), ('there', 1064), ('had', 1020), ('were', 1009), ('any', 932), ('at', 924), ('one', 903), ('them', 847), ('other', 843), ('so', 818), ('on', 774)]\n"
     ]
    }
   ],
   "source": [
    "word_counts = top40_words.compute()\n",
    "print(word_counts)"
   ]
  }
 ],
 "metadata": {
  "kernelspec": {
   "display_name": "Python 3",
   "language": "python",
   "name": "python3"
  },
  "language_info": {
   "codemirror_mode": {
    "name": "ipython",
    "version": 3
   },
   "file_extension": ".py",
   "mimetype": "text/x-python",
   "name": "python",
   "nbconvert_exporter": "python",
   "pygments_lexer": "ipython3",
   "version": "3.7.9"
  }
 },
 "nbformat": 4,
 "nbformat_minor": 5
}
